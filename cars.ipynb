{
  "nbformat": 4,
  "nbformat_minor": 0,
  "metadata": {
    "colab": {
      "name": "cars.ipynb",
      "provenance": [],
      "collapsed_sections": [],
      "authorship_tag": "ABX9TyOi4db5xLwpo5G9WC7pxJyp",
      "include_colab_link": true
    },
    "kernelspec": {
      "name": "python3",
      "display_name": "Python 3"
    },
    "language_info": {
      "name": "python"
    }
  },
  "cells": [
    {
      "cell_type": "markdown",
      "metadata": {
        "id": "view-in-github",
        "colab_type": "text"
      },
      "source": [
        "<a href=\"https://colab.research.google.com/github/pavan9753/Cars_Manufacturing_data_Analysis/blob/main/cars.ipynb\" target=\"_parent\"><img src=\"https://colab.research.google.com/assets/colab-badge.svg\" alt=\"Open In Colab\"/></a>"
      ]
    },
    {
      "cell_type": "code",
      "metadata": {
        "id": "5ojJ02DxjcaW"
      },
      "source": [
        "import pandas as pd\n",
        "import numpy as np\n",
        "import matplotlib.pyplot as plt\n"
      ],
      "execution_count": null,
      "outputs": []
    },
    {
      "cell_type": "code",
      "metadata": {
        "colab": {
          "base_uri": "https://localhost:8080/"
        },
        "id": "lb5CJgjGkZ9u",
        "outputId": "f0387e20-d186-476c-e00c-9ecfcefe9553"
      },
      "source": [
        "!pip install matplotlib"
      ],
      "execution_count": null,
      "outputs": [
        {
          "output_type": "stream",
          "name": "stdout",
          "text": [
            "Requirement already satisfied: matplotlib in /usr/local/lib/python3.7/dist-packages (3.2.2)\n",
            "Requirement already satisfied: numpy>=1.11 in /usr/local/lib/python3.7/dist-packages (from matplotlib) (1.19.5)\n",
            "Requirement already satisfied: kiwisolver>=1.0.1 in /usr/local/lib/python3.7/dist-packages (from matplotlib) (1.3.1)\n",
            "Requirement already satisfied: pyparsing!=2.0.4,!=2.1.2,!=2.1.6,>=2.0.1 in /usr/local/lib/python3.7/dist-packages (from matplotlib) (2.4.7)\n",
            "Requirement already satisfied: cycler>=0.10 in /usr/local/lib/python3.7/dist-packages (from matplotlib) (0.10.0)\n",
            "Requirement already satisfied: python-dateutil>=2.1 in /usr/local/lib/python3.7/dist-packages (from matplotlib) (2.8.2)\n",
            "Requirement already satisfied: six in /usr/local/lib/python3.7/dist-packages (from cycler>=0.10->matplotlib) (1.15.0)\n"
          ]
        }
      ]
    },
    {
      "cell_type": "code",
      "metadata": {
        "colab": {
          "base_uri": "https://localhost:8080/",
          "height": 498
        },
        "id": "gNHogAOSkdfH",
        "outputId": "87891da7-166d-4773-c416-876ddde782be"
      },
      "source": [
        "df=pd.read_csv(\"USA_cars_datasets.csv\")\n",
        "\n",
        "df.tail(10)"
      ],
      "execution_count": null,
      "outputs": [
        {
          "output_type": "execute_result",
          "data": {
            "text/html": [
              "<div>\n",
              "<style scoped>\n",
              "    .dataframe tbody tr th:only-of-type {\n",
              "        vertical-align: middle;\n",
              "    }\n",
              "\n",
              "    .dataframe tbody tr th {\n",
              "        vertical-align: top;\n",
              "    }\n",
              "\n",
              "    .dataframe thead th {\n",
              "        text-align: right;\n",
              "    }\n",
              "</style>\n",
              "<table border=\"1\" class=\"dataframe\">\n",
              "  <thead>\n",
              "    <tr style=\"text-align: right;\">\n",
              "      <th></th>\n",
              "      <th>Unnamed: 0</th>\n",
              "      <th>price</th>\n",
              "      <th>brand</th>\n",
              "      <th>model</th>\n",
              "      <th>year</th>\n",
              "      <th>title_status</th>\n",
              "      <th>mileage</th>\n",
              "      <th>color</th>\n",
              "      <th>vin</th>\n",
              "      <th>lot</th>\n",
              "      <th>state</th>\n",
              "      <th>country</th>\n",
              "      <th>condition</th>\n",
              "    </tr>\n",
              "  </thead>\n",
              "  <tbody>\n",
              "    <tr>\n",
              "      <th>2489</th>\n",
              "      <td>2489</td>\n",
              "      <td>13900</td>\n",
              "      <td>nissan</td>\n",
              "      <td>rogue</td>\n",
              "      <td>2018</td>\n",
              "      <td>clean vehicle</td>\n",
              "      <td>40259.0</td>\n",
              "      <td>gray</td>\n",
              "      <td>knmat2mt9jp582734</td>\n",
              "      <td>167762219</td>\n",
              "      <td>florida</td>\n",
              "      <td>usa</td>\n",
              "      <td>21 hours left</td>\n",
              "    </tr>\n",
              "    <tr>\n",
              "      <th>2490</th>\n",
              "      <td>2490</td>\n",
              "      <td>10400</td>\n",
              "      <td>nissan</td>\n",
              "      <td>sentra</td>\n",
              "      <td>2019</td>\n",
              "      <td>clean vehicle</td>\n",
              "      <td>25264.0</td>\n",
              "      <td>blue</td>\n",
              "      <td>3n1ab7ap4ky323241</td>\n",
              "      <td>167722702</td>\n",
              "      <td>california</td>\n",
              "      <td>usa</td>\n",
              "      <td>1 days left</td>\n",
              "    </tr>\n",
              "    <tr>\n",
              "      <th>2491</th>\n",
              "      <td>2491</td>\n",
              "      <td>9200</td>\n",
              "      <td>nissan</td>\n",
              "      <td>versa</td>\n",
              "      <td>2018</td>\n",
              "      <td>clean vehicle</td>\n",
              "      <td>35677.0</td>\n",
              "      <td>black</td>\n",
              "      <td>3n1cn7ap7jl882312</td>\n",
              "      <td>167762221</td>\n",
              "      <td>florida</td>\n",
              "      <td>usa</td>\n",
              "      <td>21 hours left</td>\n",
              "    </tr>\n",
              "    <tr>\n",
              "      <th>2492</th>\n",
              "      <td>2492</td>\n",
              "      <td>7400</td>\n",
              "      <td>nissan</td>\n",
              "      <td>versa</td>\n",
              "      <td>2019</td>\n",
              "      <td>clean vehicle</td>\n",
              "      <td>35511.0</td>\n",
              "      <td>black</td>\n",
              "      <td>3n1cn7ap5kl841811</td>\n",
              "      <td>167722706</td>\n",
              "      <td>california</td>\n",
              "      <td>usa</td>\n",
              "      <td>1 days left</td>\n",
              "    </tr>\n",
              "    <tr>\n",
              "      <th>2493</th>\n",
              "      <td>2493</td>\n",
              "      <td>9200</td>\n",
              "      <td>nissan</td>\n",
              "      <td>versa</td>\n",
              "      <td>2018</td>\n",
              "      <td>clean vehicle</td>\n",
              "      <td>33027.0</td>\n",
              "      <td>black</td>\n",
              "      <td>3n1cn7ap0jl883768</td>\n",
              "      <td>167762224</td>\n",
              "      <td>florida</td>\n",
              "      <td>usa</td>\n",
              "      <td>21 hours left</td>\n",
              "    </tr>\n",
              "    <tr>\n",
              "      <th>2494</th>\n",
              "      <td>2494</td>\n",
              "      <td>7800</td>\n",
              "      <td>nissan</td>\n",
              "      <td>versa</td>\n",
              "      <td>2019</td>\n",
              "      <td>clean vehicle</td>\n",
              "      <td>23609.0</td>\n",
              "      <td>red</td>\n",
              "      <td>3n1cn7ap9kl880319</td>\n",
              "      <td>167722715</td>\n",
              "      <td>california</td>\n",
              "      <td>usa</td>\n",
              "      <td>1 days left</td>\n",
              "    </tr>\n",
              "    <tr>\n",
              "      <th>2495</th>\n",
              "      <td>2495</td>\n",
              "      <td>9200</td>\n",
              "      <td>nissan</td>\n",
              "      <td>versa</td>\n",
              "      <td>2018</td>\n",
              "      <td>clean vehicle</td>\n",
              "      <td>34553.0</td>\n",
              "      <td>silver</td>\n",
              "      <td>3n1cn7ap5jl884088</td>\n",
              "      <td>167762225</td>\n",
              "      <td>florida</td>\n",
              "      <td>usa</td>\n",
              "      <td>21 hours left</td>\n",
              "    </tr>\n",
              "    <tr>\n",
              "      <th>2496</th>\n",
              "      <td>2496</td>\n",
              "      <td>9200</td>\n",
              "      <td>nissan</td>\n",
              "      <td>versa</td>\n",
              "      <td>2018</td>\n",
              "      <td>clean vehicle</td>\n",
              "      <td>31594.0</td>\n",
              "      <td>silver</td>\n",
              "      <td>3n1cn7ap9jl884191</td>\n",
              "      <td>167762226</td>\n",
              "      <td>florida</td>\n",
              "      <td>usa</td>\n",
              "      <td>21 hours left</td>\n",
              "    </tr>\n",
              "    <tr>\n",
              "      <th>2497</th>\n",
              "      <td>2497</td>\n",
              "      <td>9200</td>\n",
              "      <td>nissan</td>\n",
              "      <td>versa</td>\n",
              "      <td>2018</td>\n",
              "      <td>clean vehicle</td>\n",
              "      <td>32557.0</td>\n",
              "      <td>black</td>\n",
              "      <td>3n1cn7ap3jl883263</td>\n",
              "      <td>167762227</td>\n",
              "      <td>florida</td>\n",
              "      <td>usa</td>\n",
              "      <td>2 days left</td>\n",
              "    </tr>\n",
              "    <tr>\n",
              "      <th>2498</th>\n",
              "      <td>2498</td>\n",
              "      <td>9200</td>\n",
              "      <td>nissan</td>\n",
              "      <td>versa</td>\n",
              "      <td>2018</td>\n",
              "      <td>clean vehicle</td>\n",
              "      <td>31371.0</td>\n",
              "      <td>silver</td>\n",
              "      <td>3n1cn7ap4jl884311</td>\n",
              "      <td>167762228</td>\n",
              "      <td>florida</td>\n",
              "      <td>usa</td>\n",
              "      <td>21 hours left</td>\n",
              "    </tr>\n",
              "  </tbody>\n",
              "</table>\n",
              "</div>"
            ],
            "text/plain": [
              "      Unnamed: 0  price   brand  ...       state  country      condition\n",
              "2489        2489  13900  nissan  ...     florida      usa  21 hours left\n",
              "2490        2490  10400  nissan  ...  california      usa    1 days left\n",
              "2491        2491   9200  nissan  ...     florida      usa  21 hours left\n",
              "2492        2492   7400  nissan  ...  california      usa    1 days left\n",
              "2493        2493   9200  nissan  ...     florida      usa  21 hours left\n",
              "2494        2494   7800  nissan  ...  california      usa    1 days left\n",
              "2495        2495   9200  nissan  ...     florida      usa  21 hours left\n",
              "2496        2496   9200  nissan  ...     florida      usa  21 hours left\n",
              "2497        2497   9200  nissan  ...     florida      usa    2 days left\n",
              "2498        2498   9200  nissan  ...     florida      usa  21 hours left\n",
              "\n",
              "[10 rows x 13 columns]"
            ]
          },
          "metadata": {},
          "execution_count": 5
        }
      ]
    },
    {
      "cell_type": "code",
      "metadata": {
        "colab": {
          "base_uri": "https://localhost:8080/"
        },
        "id": "g-3ZqDe4k6Bp",
        "outputId": "045edb8a-c710-41a6-9610-4f14720f7faf"
      },
      "source": [
        "print(df.iloc[1])\n",
        "\n",
        "print(df.iloc[3,3])\n"
      ],
      "execution_count": null,
      "outputs": [
        {
          "output_type": "stream",
          "name": "stdout",
          "text": [
            "Unnamed: 0                        1\n",
            "price                          2899\n",
            "brand                          ford\n",
            "model                            se\n",
            "year                           2011\n",
            "title_status          clean vehicle\n",
            "mileage                      190552\n",
            "color                        silver\n",
            "vin               2fmdk3gc4bbb02217\n",
            "lot                       166951262\n",
            "state                     tennessee\n",
            "country                         usa\n",
            "condition               6 days left\n",
            "Name: 1, dtype: object\n",
            "door\n"
          ]
        }
      ]
    },
    {
      "cell_type": "markdown",
      "metadata": {
        "id": "dy66BE4RyFsQ"
      },
      "source": [
        "# Describing data on various aspects"
      ]
    },
    {
      "cell_type": "code",
      "metadata": {
        "colab": {
          "base_uri": "https://localhost:8080/",
          "height": 711
        },
        "id": "BqAkyCwFoZ_7",
        "outputId": "7b4eec8c-c833-476a-9a1e-64ac6b92d4dc"
      },
      "source": [
        "print(df.describe())\n",
        "\n",
        "\n",
        "df.sort_values(['brand','country'],ascending=[0,1])"
      ],
      "execution_count": null,
      "outputs": [
        {
          "output_type": "stream",
          "name": "stdout",
          "text": [
            "        Unnamed: 0         price         year       mileage           lot\n",
            "count  2499.000000   2499.000000  2499.000000  2.499000e+03  2.499000e+03\n",
            "mean   1249.000000  18767.671469  2016.714286  5.229869e+04  1.676914e+08\n",
            "std     721.543484  12116.094936     3.442656  5.970552e+04  2.038772e+05\n",
            "min       0.000000      0.000000  1973.000000  0.000000e+00  1.593488e+08\n",
            "25%     624.500000  10200.000000  2016.000000  2.146650e+04  1.676253e+08\n",
            "50%    1249.000000  16900.000000  2018.000000  3.536500e+04  1.677451e+08\n",
            "75%    1873.500000  25555.500000  2019.000000  6.347250e+04  1.677798e+08\n",
            "max    2498.000000  84900.000000  2020.000000  1.017936e+06  1.678055e+08\n"
          ]
        },
        {
          "output_type": "execute_result",
          "data": {
            "text/html": [
              "<div>\n",
              "<style scoped>\n",
              "    .dataframe tbody tr th:only-of-type {\n",
              "        vertical-align: middle;\n",
              "    }\n",
              "\n",
              "    .dataframe tbody tr th {\n",
              "        vertical-align: top;\n",
              "    }\n",
              "\n",
              "    .dataframe thead th {\n",
              "        text-align: right;\n",
              "    }\n",
              "</style>\n",
              "<table border=\"1\" class=\"dataframe\">\n",
              "  <thead>\n",
              "    <tr style=\"text-align: right;\">\n",
              "      <th></th>\n",
              "      <th>Unnamed: 0</th>\n",
              "      <th>price</th>\n",
              "      <th>brand</th>\n",
              "      <th>model</th>\n",
              "      <th>year</th>\n",
              "      <th>title_status</th>\n",
              "      <th>mileage</th>\n",
              "      <th>color</th>\n",
              "      <th>vin</th>\n",
              "      <th>lot</th>\n",
              "      <th>state</th>\n",
              "      <th>country</th>\n",
              "      <th>condition</th>\n",
              "    </tr>\n",
              "  </thead>\n",
              "  <tbody>\n",
              "    <tr>\n",
              "      <th>0</th>\n",
              "      <td>0</td>\n",
              "      <td>6300</td>\n",
              "      <td>toyota</td>\n",
              "      <td>cruiser</td>\n",
              "      <td>2008</td>\n",
              "      <td>clean vehicle</td>\n",
              "      <td>274117.0</td>\n",
              "      <td>black</td>\n",
              "      <td>jtezu11f88k007763</td>\n",
              "      <td>159348797</td>\n",
              "      <td>new jersey</td>\n",
              "      <td>usa</td>\n",
              "      <td>10 days left</td>\n",
              "    </tr>\n",
              "    <tr>\n",
              "      <th>505</th>\n",
              "      <td>505</td>\n",
              "      <td>11050</td>\n",
              "      <td>ram</td>\n",
              "      <td>door</td>\n",
              "      <td>2017</td>\n",
              "      <td>clean vehicle</td>\n",
              "      <td>30421.0</td>\n",
              "      <td>white</td>\n",
              "      <td>1c6rr7pt3hs659994</td>\n",
              "      <td>167668548</td>\n",
              "      <td>new jersey</td>\n",
              "      <td>usa</td>\n",
              "      <td>17 hours left</td>\n",
              "    </tr>\n",
              "    <tr>\n",
              "      <th>490</th>\n",
              "      <td>490</td>\n",
              "      <td>475</td>\n",
              "      <td>peterbilt</td>\n",
              "      <td>truck</td>\n",
              "      <td>2012</td>\n",
              "      <td>salvage insurance</td>\n",
              "      <td>902041.0</td>\n",
              "      <td>gold</td>\n",
              "      <td>1xp4d49x9cd123630</td>\n",
              "      <td>167529786</td>\n",
              "      <td>florida</td>\n",
              "      <td>usa</td>\n",
              "      <td>17 hours left</td>\n",
              "    </tr>\n",
              "    <tr>\n",
              "      <th>504</th>\n",
              "      <td>504</td>\n",
              "      <td>100</td>\n",
              "      <td>peterbilt</td>\n",
              "      <td>truck</td>\n",
              "      <td>2012</td>\n",
              "      <td>salvage insurance</td>\n",
              "      <td>0.0</td>\n",
              "      <td>blue</td>\n",
              "      <td>1xp4d49x1cd144875</td>\n",
              "      <td>167529787</td>\n",
              "      <td>florida</td>\n",
              "      <td>usa</td>\n",
              "      <td>17 hours left</td>\n",
              "    </tr>\n",
              "    <tr>\n",
              "      <th>516</th>\n",
              "      <td>516</td>\n",
              "      <td>0</td>\n",
              "      <td>peterbilt</td>\n",
              "      <td>truck</td>\n",
              "      <td>2009</td>\n",
              "      <td>salvage insurance</td>\n",
              "      <td>982486.0</td>\n",
              "      <td>blue</td>\n",
              "      <td>1xp7d49x09d784257</td>\n",
              "      <td>167529788</td>\n",
              "      <td>florida</td>\n",
              "      <td>usa</td>\n",
              "      <td>17 hours left</td>\n",
              "    </tr>\n",
              "    <tr>\n",
              "      <th>...</th>\n",
              "      <td>...</td>\n",
              "      <td>...</td>\n",
              "      <td>...</td>\n",
              "      <td>...</td>\n",
              "      <td>...</td>\n",
              "      <td>...</td>\n",
              "      <td>...</td>\n",
              "      <td>...</td>\n",
              "      <td>...</td>\n",
              "      <td>...</td>\n",
              "      <td>...</td>\n",
              "      <td>...</td>\n",
              "      <td>...</td>\n",
              "    </tr>\n",
              "    <tr>\n",
              "      <th>429</th>\n",
              "      <td>429</td>\n",
              "      <td>19500</td>\n",
              "      <td>audi</td>\n",
              "      <td>q5</td>\n",
              "      <td>2017</td>\n",
              "      <td>clean vehicle</td>\n",
              "      <td>65833.0</td>\n",
              "      <td>blue</td>\n",
              "      <td>wa1l2afpxha049370</td>\n",
              "      <td>167339535</td>\n",
              "      <td>texas</td>\n",
              "      <td>usa</td>\n",
              "      <td>3 days left</td>\n",
              "    </tr>\n",
              "    <tr>\n",
              "      <th>444</th>\n",
              "      <td>444</td>\n",
              "      <td>36400</td>\n",
              "      <td>audi</td>\n",
              "      <td>5</td>\n",
              "      <td>2015</td>\n",
              "      <td>clean vehicle</td>\n",
              "      <td>47213.0</td>\n",
              "      <td>black</td>\n",
              "      <td>wuac6bfr0fa901212</td>\n",
              "      <td>167780470</td>\n",
              "      <td>wisconsin</td>\n",
              "      <td>usa</td>\n",
              "      <td>2 days left</td>\n",
              "    </tr>\n",
              "    <tr>\n",
              "      <th>374</th>\n",
              "      <td>374</td>\n",
              "      <td>1000</td>\n",
              "      <td>acura</td>\n",
              "      <td>door</td>\n",
              "      <td>2008</td>\n",
              "      <td>salvage insurance</td>\n",
              "      <td>118250.0</td>\n",
              "      <td>gray</td>\n",
              "      <td>5j8tb18578a010979</td>\n",
              "      <td>167362709</td>\n",
              "      <td>michigan</td>\n",
              "      <td>usa</td>\n",
              "      <td>2 days left</td>\n",
              "    </tr>\n",
              "    <tr>\n",
              "      <th>390</th>\n",
              "      <td>390</td>\n",
              "      <td>3900</td>\n",
              "      <td>acura</td>\n",
              "      <td>door</td>\n",
              "      <td>2009</td>\n",
              "      <td>clean vehicle</td>\n",
              "      <td>179389.0</td>\n",
              "      <td>black</td>\n",
              "      <td>19uua96529a004646</td>\n",
              "      <td>167389316</td>\n",
              "      <td>texas</td>\n",
              "      <td>usa</td>\n",
              "      <td>2 hours left</td>\n",
              "    </tr>\n",
              "    <tr>\n",
              "      <th>595</th>\n",
              "      <td>595</td>\n",
              "      <td>16900</td>\n",
              "      <td>acura</td>\n",
              "      <td>mdx</td>\n",
              "      <td>2014</td>\n",
              "      <td>clean vehicle</td>\n",
              "      <td>63500.0</td>\n",
              "      <td>silver</td>\n",
              "      <td>5fryd3h20eb002546</td>\n",
              "      <td>167775829</td>\n",
              "      <td>florida</td>\n",
              "      <td>usa</td>\n",
              "      <td>1 days left</td>\n",
              "    </tr>\n",
              "  </tbody>\n",
              "</table>\n",
              "<p>2499 rows × 13 columns</p>\n",
              "</div>"
            ],
            "text/plain": [
              "     Unnamed: 0  price      brand  ...       state  country      condition\n",
              "0             0   6300     toyota  ...  new jersey      usa   10 days left\n",
              "505         505  11050        ram  ...  new jersey      usa  17 hours left\n",
              "490         490    475  peterbilt  ...     florida      usa  17 hours left\n",
              "504         504    100  peterbilt  ...     florida      usa  17 hours left\n",
              "516         516      0  peterbilt  ...     florida      usa  17 hours left\n",
              "..          ...    ...        ...  ...         ...      ...            ...\n",
              "429         429  19500       audi  ...       texas      usa    3 days left\n",
              "444         444  36400       audi  ...   wisconsin      usa    2 days left\n",
              "374         374   1000      acura  ...    michigan      usa    2 days left\n",
              "390         390   3900      acura  ...       texas      usa   2 hours left\n",
              "595         595  16900      acura  ...     florida      usa    1 days left\n",
              "\n",
              "[2499 rows x 13 columns]"
            ]
          },
          "metadata": {},
          "execution_count": 15
        }
      ]
    },
    {
      "cell_type": "markdown",
      "metadata": {
        "id": "krgO8NhM2gTt"
      },
      "source": [
        "# Making changes to data and saving in different forms"
      ]
    },
    {
      "cell_type": "code",
      "metadata": {
        "colab": {
          "base_uri": "https://localhost:8080/",
          "height": 558
        },
        "id": "E4SSDDmMyCTd",
        "outputId": "915448ef-055b-44d2-a960-2768460601e2"
      },
      "source": [
        "df['total']=df['price']+df['mileage']\n",
        "# in csv format\n",
        "df.to_csv(\"modified.csv\",index=False)\n",
        "# in xlsx format\n",
        "df.to_excel(\"modified.xlsx\")\n",
        "df"
      ],
      "execution_count": null,
      "outputs": [
        {
          "output_type": "execute_result",
          "data": {
            "text/html": [
              "<div>\n",
              "<style scoped>\n",
              "    .dataframe tbody tr th:only-of-type {\n",
              "        vertical-align: middle;\n",
              "    }\n",
              "\n",
              "    .dataframe tbody tr th {\n",
              "        vertical-align: top;\n",
              "    }\n",
              "\n",
              "    .dataframe thead th {\n",
              "        text-align: right;\n",
              "    }\n",
              "</style>\n",
              "<table border=\"1\" class=\"dataframe\">\n",
              "  <thead>\n",
              "    <tr style=\"text-align: right;\">\n",
              "      <th></th>\n",
              "      <th>Unnamed: 0</th>\n",
              "      <th>price</th>\n",
              "      <th>brand</th>\n",
              "      <th>model</th>\n",
              "      <th>year</th>\n",
              "      <th>title_status</th>\n",
              "      <th>mileage</th>\n",
              "      <th>color</th>\n",
              "      <th>vin</th>\n",
              "      <th>lot</th>\n",
              "      <th>state</th>\n",
              "      <th>country</th>\n",
              "      <th>condition</th>\n",
              "      <th>total</th>\n",
              "    </tr>\n",
              "  </thead>\n",
              "  <tbody>\n",
              "    <tr>\n",
              "      <th>0</th>\n",
              "      <td>0</td>\n",
              "      <td>6300</td>\n",
              "      <td>toyota</td>\n",
              "      <td>cruiser</td>\n",
              "      <td>2008</td>\n",
              "      <td>clean vehicle</td>\n",
              "      <td>274117.0</td>\n",
              "      <td>black</td>\n",
              "      <td>jtezu11f88k007763</td>\n",
              "      <td>159348797</td>\n",
              "      <td>new jersey</td>\n",
              "      <td>usa</td>\n",
              "      <td>10 days left</td>\n",
              "      <td>280417.0</td>\n",
              "    </tr>\n",
              "    <tr>\n",
              "      <th>1</th>\n",
              "      <td>1</td>\n",
              "      <td>2899</td>\n",
              "      <td>ford</td>\n",
              "      <td>se</td>\n",
              "      <td>2011</td>\n",
              "      <td>clean vehicle</td>\n",
              "      <td>190552.0</td>\n",
              "      <td>silver</td>\n",
              "      <td>2fmdk3gc4bbb02217</td>\n",
              "      <td>166951262</td>\n",
              "      <td>tennessee</td>\n",
              "      <td>usa</td>\n",
              "      <td>6 days left</td>\n",
              "      <td>193451.0</td>\n",
              "    </tr>\n",
              "    <tr>\n",
              "      <th>2</th>\n",
              "      <td>2</td>\n",
              "      <td>5350</td>\n",
              "      <td>dodge</td>\n",
              "      <td>mpv</td>\n",
              "      <td>2018</td>\n",
              "      <td>clean vehicle</td>\n",
              "      <td>39590.0</td>\n",
              "      <td>silver</td>\n",
              "      <td>3c4pdcgg5jt346413</td>\n",
              "      <td>167655728</td>\n",
              "      <td>georgia</td>\n",
              "      <td>usa</td>\n",
              "      <td>2 days left</td>\n",
              "      <td>44940.0</td>\n",
              "    </tr>\n",
              "    <tr>\n",
              "      <th>3</th>\n",
              "      <td>3</td>\n",
              "      <td>25000</td>\n",
              "      <td>ford</td>\n",
              "      <td>door</td>\n",
              "      <td>2014</td>\n",
              "      <td>clean vehicle</td>\n",
              "      <td>64146.0</td>\n",
              "      <td>blue</td>\n",
              "      <td>1ftfw1et4efc23745</td>\n",
              "      <td>167753855</td>\n",
              "      <td>virginia</td>\n",
              "      <td>usa</td>\n",
              "      <td>22 hours left</td>\n",
              "      <td>89146.0</td>\n",
              "    </tr>\n",
              "    <tr>\n",
              "      <th>4</th>\n",
              "      <td>4</td>\n",
              "      <td>27700</td>\n",
              "      <td>chevrolet</td>\n",
              "      <td>1500</td>\n",
              "      <td>2018</td>\n",
              "      <td>clean vehicle</td>\n",
              "      <td>6654.0</td>\n",
              "      <td>red</td>\n",
              "      <td>3gcpcrec2jg473991</td>\n",
              "      <td>167763266</td>\n",
              "      <td>florida</td>\n",
              "      <td>usa</td>\n",
              "      <td>22 hours left</td>\n",
              "      <td>34354.0</td>\n",
              "    </tr>\n",
              "    <tr>\n",
              "      <th>...</th>\n",
              "      <td>...</td>\n",
              "      <td>...</td>\n",
              "      <td>...</td>\n",
              "      <td>...</td>\n",
              "      <td>...</td>\n",
              "      <td>...</td>\n",
              "      <td>...</td>\n",
              "      <td>...</td>\n",
              "      <td>...</td>\n",
              "      <td>...</td>\n",
              "      <td>...</td>\n",
              "      <td>...</td>\n",
              "      <td>...</td>\n",
              "      <td>...</td>\n",
              "    </tr>\n",
              "    <tr>\n",
              "      <th>2494</th>\n",
              "      <td>2494</td>\n",
              "      <td>7800</td>\n",
              "      <td>nissan</td>\n",
              "      <td>versa</td>\n",
              "      <td>2019</td>\n",
              "      <td>clean vehicle</td>\n",
              "      <td>23609.0</td>\n",
              "      <td>red</td>\n",
              "      <td>3n1cn7ap9kl880319</td>\n",
              "      <td>167722715</td>\n",
              "      <td>california</td>\n",
              "      <td>usa</td>\n",
              "      <td>1 days left</td>\n",
              "      <td>31409.0</td>\n",
              "    </tr>\n",
              "    <tr>\n",
              "      <th>2495</th>\n",
              "      <td>2495</td>\n",
              "      <td>9200</td>\n",
              "      <td>nissan</td>\n",
              "      <td>versa</td>\n",
              "      <td>2018</td>\n",
              "      <td>clean vehicle</td>\n",
              "      <td>34553.0</td>\n",
              "      <td>silver</td>\n",
              "      <td>3n1cn7ap5jl884088</td>\n",
              "      <td>167762225</td>\n",
              "      <td>florida</td>\n",
              "      <td>usa</td>\n",
              "      <td>21 hours left</td>\n",
              "      <td>43753.0</td>\n",
              "    </tr>\n",
              "    <tr>\n",
              "      <th>2496</th>\n",
              "      <td>2496</td>\n",
              "      <td>9200</td>\n",
              "      <td>nissan</td>\n",
              "      <td>versa</td>\n",
              "      <td>2018</td>\n",
              "      <td>clean vehicle</td>\n",
              "      <td>31594.0</td>\n",
              "      <td>silver</td>\n",
              "      <td>3n1cn7ap9jl884191</td>\n",
              "      <td>167762226</td>\n",
              "      <td>florida</td>\n",
              "      <td>usa</td>\n",
              "      <td>21 hours left</td>\n",
              "      <td>40794.0</td>\n",
              "    </tr>\n",
              "    <tr>\n",
              "      <th>2497</th>\n",
              "      <td>2497</td>\n",
              "      <td>9200</td>\n",
              "      <td>nissan</td>\n",
              "      <td>versa</td>\n",
              "      <td>2018</td>\n",
              "      <td>clean vehicle</td>\n",
              "      <td>32557.0</td>\n",
              "      <td>black</td>\n",
              "      <td>3n1cn7ap3jl883263</td>\n",
              "      <td>167762227</td>\n",
              "      <td>florida</td>\n",
              "      <td>usa</td>\n",
              "      <td>2 days left</td>\n",
              "      <td>41757.0</td>\n",
              "    </tr>\n",
              "    <tr>\n",
              "      <th>2498</th>\n",
              "      <td>2498</td>\n",
              "      <td>9200</td>\n",
              "      <td>nissan</td>\n",
              "      <td>versa</td>\n",
              "      <td>2018</td>\n",
              "      <td>clean vehicle</td>\n",
              "      <td>31371.0</td>\n",
              "      <td>silver</td>\n",
              "      <td>3n1cn7ap4jl884311</td>\n",
              "      <td>167762228</td>\n",
              "      <td>florida</td>\n",
              "      <td>usa</td>\n",
              "      <td>21 hours left</td>\n",
              "      <td>40571.0</td>\n",
              "    </tr>\n",
              "  </tbody>\n",
              "</table>\n",
              "<p>2499 rows × 14 columns</p>\n",
              "</div>"
            ],
            "text/plain": [
              "      Unnamed: 0  price      brand  ... country      condition     total\n",
              "0              0   6300     toyota  ...     usa   10 days left  280417.0\n",
              "1              1   2899       ford  ...     usa    6 days left  193451.0\n",
              "2              2   5350      dodge  ...     usa    2 days left   44940.0\n",
              "3              3  25000       ford  ...     usa  22 hours left   89146.0\n",
              "4              4  27700  chevrolet  ...     usa  22 hours left   34354.0\n",
              "...          ...    ...        ...  ...     ...            ...       ...\n",
              "2494        2494   7800     nissan  ...     usa    1 days left   31409.0\n",
              "2495        2495   9200     nissan  ...     usa  21 hours left   43753.0\n",
              "2496        2496   9200     nissan  ...     usa  21 hours left   40794.0\n",
              "2497        2497   9200     nissan  ...     usa    2 days left   41757.0\n",
              "2498        2498   9200     nissan  ...     usa  21 hours left   40571.0\n",
              "\n",
              "[2499 rows x 14 columns]"
            ]
          },
          "metadata": {},
          "execution_count": 16
        }
      ]
    },
    {
      "cell_type": "markdown",
      "metadata": {
        "id": "yyK9HsbX2emK"
      },
      "source": [
        "# Deleting not useful coloumns\n"
      ]
    },
    {
      "cell_type": "code",
      "metadata": {
        "colab": {
          "base_uri": "https://localhost:8080/",
          "height": 478
        },
        "id": "5HG4L3-q90mv",
        "outputId": "23709c8c-f629-4f48-b5d5-75f9b7edf7cb"
      },
      "source": [
        "\n",
        "df=df.drop(columns=['title_status'])\n",
        "df.head(10)"
      ],
      "execution_count": null,
      "outputs": [
        {
          "output_type": "execute_result",
          "data": {
            "text/html": [
              "<div>\n",
              "<style scoped>\n",
              "    .dataframe tbody tr th:only-of-type {\n",
              "        vertical-align: middle;\n",
              "    }\n",
              "\n",
              "    .dataframe tbody tr th {\n",
              "        vertical-align: top;\n",
              "    }\n",
              "\n",
              "    .dataframe thead th {\n",
              "        text-align: right;\n",
              "    }\n",
              "</style>\n",
              "<table border=\"1\" class=\"dataframe\">\n",
              "  <thead>\n",
              "    <tr style=\"text-align: right;\">\n",
              "      <th></th>\n",
              "      <th>Unnamed: 0</th>\n",
              "      <th>price</th>\n",
              "      <th>brand</th>\n",
              "      <th>model</th>\n",
              "      <th>year</th>\n",
              "      <th>mileage</th>\n",
              "      <th>color</th>\n",
              "      <th>vin</th>\n",
              "      <th>lot</th>\n",
              "      <th>state</th>\n",
              "      <th>country</th>\n",
              "      <th>condition</th>\n",
              "    </tr>\n",
              "  </thead>\n",
              "  <tbody>\n",
              "    <tr>\n",
              "      <th>0</th>\n",
              "      <td>0</td>\n",
              "      <td>6300</td>\n",
              "      <td>toyota</td>\n",
              "      <td>cruiser</td>\n",
              "      <td>2008</td>\n",
              "      <td>274117.0</td>\n",
              "      <td>black</td>\n",
              "      <td>jtezu11f88k007763</td>\n",
              "      <td>159348797</td>\n",
              "      <td>new jersey</td>\n",
              "      <td>usa</td>\n",
              "      <td>10 days left</td>\n",
              "    </tr>\n",
              "    <tr>\n",
              "      <th>1</th>\n",
              "      <td>1</td>\n",
              "      <td>2899</td>\n",
              "      <td>ford</td>\n",
              "      <td>se</td>\n",
              "      <td>2011</td>\n",
              "      <td>190552.0</td>\n",
              "      <td>silver</td>\n",
              "      <td>2fmdk3gc4bbb02217</td>\n",
              "      <td>166951262</td>\n",
              "      <td>tennessee</td>\n",
              "      <td>usa</td>\n",
              "      <td>6 days left</td>\n",
              "    </tr>\n",
              "    <tr>\n",
              "      <th>2</th>\n",
              "      <td>2</td>\n",
              "      <td>5350</td>\n",
              "      <td>dodge</td>\n",
              "      <td>mpv</td>\n",
              "      <td>2018</td>\n",
              "      <td>39590.0</td>\n",
              "      <td>silver</td>\n",
              "      <td>3c4pdcgg5jt346413</td>\n",
              "      <td>167655728</td>\n",
              "      <td>georgia</td>\n",
              "      <td>usa</td>\n",
              "      <td>2 days left</td>\n",
              "    </tr>\n",
              "    <tr>\n",
              "      <th>3</th>\n",
              "      <td>3</td>\n",
              "      <td>25000</td>\n",
              "      <td>ford</td>\n",
              "      <td>door</td>\n",
              "      <td>2014</td>\n",
              "      <td>64146.0</td>\n",
              "      <td>blue</td>\n",
              "      <td>1ftfw1et4efc23745</td>\n",
              "      <td>167753855</td>\n",
              "      <td>virginia</td>\n",
              "      <td>usa</td>\n",
              "      <td>22 hours left</td>\n",
              "    </tr>\n",
              "    <tr>\n",
              "      <th>4</th>\n",
              "      <td>4</td>\n",
              "      <td>27700</td>\n",
              "      <td>chevrolet</td>\n",
              "      <td>1500</td>\n",
              "      <td>2018</td>\n",
              "      <td>6654.0</td>\n",
              "      <td>red</td>\n",
              "      <td>3gcpcrec2jg473991</td>\n",
              "      <td>167763266</td>\n",
              "      <td>florida</td>\n",
              "      <td>usa</td>\n",
              "      <td>22 hours left</td>\n",
              "    </tr>\n",
              "    <tr>\n",
              "      <th>5</th>\n",
              "      <td>5</td>\n",
              "      <td>5700</td>\n",
              "      <td>dodge</td>\n",
              "      <td>mpv</td>\n",
              "      <td>2018</td>\n",
              "      <td>45561.0</td>\n",
              "      <td>white</td>\n",
              "      <td>2c4rdgeg9jr237989</td>\n",
              "      <td>167655771</td>\n",
              "      <td>texas</td>\n",
              "      <td>usa</td>\n",
              "      <td>2 days left</td>\n",
              "    </tr>\n",
              "    <tr>\n",
              "      <th>6</th>\n",
              "      <td>6</td>\n",
              "      <td>7300</td>\n",
              "      <td>chevrolet</td>\n",
              "      <td>pk</td>\n",
              "      <td>2010</td>\n",
              "      <td>149050.0</td>\n",
              "      <td>black</td>\n",
              "      <td>1gcsksea1az121133</td>\n",
              "      <td>167753872</td>\n",
              "      <td>georgia</td>\n",
              "      <td>usa</td>\n",
              "      <td>22 hours left</td>\n",
              "    </tr>\n",
              "    <tr>\n",
              "      <th>7</th>\n",
              "      <td>7</td>\n",
              "      <td>13350</td>\n",
              "      <td>gmc</td>\n",
              "      <td>door</td>\n",
              "      <td>2017</td>\n",
              "      <td>23525.0</td>\n",
              "      <td>gray</td>\n",
              "      <td>1gks2gkc3hr326762</td>\n",
              "      <td>167692494</td>\n",
              "      <td>california</td>\n",
              "      <td>usa</td>\n",
              "      <td>20 hours left</td>\n",
              "    </tr>\n",
              "    <tr>\n",
              "      <th>8</th>\n",
              "      <td>8</td>\n",
              "      <td>14600</td>\n",
              "      <td>chevrolet</td>\n",
              "      <td>malibu</td>\n",
              "      <td>2018</td>\n",
              "      <td>9371.0</td>\n",
              "      <td>silver</td>\n",
              "      <td>1g1zd5st5jf191860</td>\n",
              "      <td>167763267</td>\n",
              "      <td>florida</td>\n",
              "      <td>usa</td>\n",
              "      <td>22 hours left</td>\n",
              "    </tr>\n",
              "    <tr>\n",
              "      <th>9</th>\n",
              "      <td>9</td>\n",
              "      <td>5250</td>\n",
              "      <td>ford</td>\n",
              "      <td>mpv</td>\n",
              "      <td>2017</td>\n",
              "      <td>63418.0</td>\n",
              "      <td>black</td>\n",
              "      <td>2fmpk3j92hbc12542</td>\n",
              "      <td>167656121</td>\n",
              "      <td>texas</td>\n",
              "      <td>usa</td>\n",
              "      <td>2 days left</td>\n",
              "    </tr>\n",
              "  </tbody>\n",
              "</table>\n",
              "</div>"
            ],
            "text/plain": [
              "   Unnamed: 0  price      brand  ...       state  country      condition\n",
              "0           0   6300     toyota  ...  new jersey      usa   10 days left\n",
              "1           1   2899       ford  ...   tennessee      usa    6 days left\n",
              "2           2   5350      dodge  ...     georgia      usa    2 days left\n",
              "3           3  25000       ford  ...    virginia      usa  22 hours left\n",
              "4           4  27700  chevrolet  ...     florida      usa  22 hours left\n",
              "5           5   5700      dodge  ...       texas      usa    2 days left\n",
              "6           6   7300  chevrolet  ...     georgia      usa  22 hours left\n",
              "7           7  13350        gmc  ...  california      usa  20 hours left\n",
              "8           8  14600  chevrolet  ...     florida      usa  22 hours left\n",
              "9           9   5250       ford  ...       texas      usa    2 days left\n",
              "\n",
              "[10 rows x 12 columns]"
            ]
          },
          "metadata": {},
          "execution_count": 55
        }
      ]
    },
    {
      "cell_type": "markdown",
      "metadata": {
        "id": "5pbWPv1rCGFv"
      },
      "source": [
        "# Filtering data based on some conditions"
      ]
    },
    {
      "cell_type": "code",
      "metadata": {
        "colab": {
          "base_uri": "https://localhost:8080/",
          "height": 507
        },
        "id": "0hrcwL0k-A56",
        "outputId": "701a8866-3146-4291-d625-88dc64352765"
      },
      "source": [
        "# data with brand=ford or country=usa\n",
        "df.loc[(df['brand']=='ford') & ((df['country']=='usa') | (df['mileage']>100000))]"
      ],
      "execution_count": null,
      "outputs": [
        {
          "output_type": "execute_result",
          "data": {
            "text/html": [
              "<div>\n",
              "<style scoped>\n",
              "    .dataframe tbody tr th:only-of-type {\n",
              "        vertical-align: middle;\n",
              "    }\n",
              "\n",
              "    .dataframe tbody tr th {\n",
              "        vertical-align: top;\n",
              "    }\n",
              "\n",
              "    .dataframe thead th {\n",
              "        text-align: right;\n",
              "    }\n",
              "</style>\n",
              "<table border=\"1\" class=\"dataframe\">\n",
              "  <thead>\n",
              "    <tr style=\"text-align: right;\">\n",
              "      <th></th>\n",
              "      <th>Unnamed: 0</th>\n",
              "      <th>price</th>\n",
              "      <th>brand</th>\n",
              "      <th>model</th>\n",
              "      <th>year</th>\n",
              "      <th>title_status</th>\n",
              "      <th>mileage</th>\n",
              "      <th>color</th>\n",
              "      <th>vin</th>\n",
              "      <th>lot</th>\n",
              "      <th>state</th>\n",
              "      <th>country</th>\n",
              "      <th>condition</th>\n",
              "      <th>total</th>\n",
              "    </tr>\n",
              "  </thead>\n",
              "  <tbody>\n",
              "    <tr>\n",
              "      <th>1</th>\n",
              "      <td>1</td>\n",
              "      <td>2899</td>\n",
              "      <td>ford</td>\n",
              "      <td>se</td>\n",
              "      <td>2011</td>\n",
              "      <td>clean vehicle</td>\n",
              "      <td>190552.0</td>\n",
              "      <td>silver</td>\n",
              "      <td>2fmdk3gc4bbb02217</td>\n",
              "      <td>166951262</td>\n",
              "      <td>tennessee</td>\n",
              "      <td>usa</td>\n",
              "      <td>6 days left</td>\n",
              "      <td>193451.0</td>\n",
              "    </tr>\n",
              "    <tr>\n",
              "      <th>14</th>\n",
              "      <td>14</td>\n",
              "      <td>20700</td>\n",
              "      <td>ford</td>\n",
              "      <td>door</td>\n",
              "      <td>2013</td>\n",
              "      <td>clean vehicle</td>\n",
              "      <td>100757.0</td>\n",
              "      <td>black</td>\n",
              "      <td>1ftfw1et7dfa47790</td>\n",
              "      <td>167753916</td>\n",
              "      <td>virginia</td>\n",
              "      <td>usa</td>\n",
              "      <td>22 hours left</td>\n",
              "      <td>121457.0</td>\n",
              "    </tr>\n",
              "    <tr>\n",
              "      <th>24</th>\n",
              "      <td>24</td>\n",
              "      <td>20800</td>\n",
              "      <td>ford</td>\n",
              "      <td>door</td>\n",
              "      <td>2013</td>\n",
              "      <td>clean vehicle</td>\n",
              "      <td>105510.0</td>\n",
              "      <td>silver</td>\n",
              "      <td>1ftfw1efxdfa01008</td>\n",
              "      <td>167753937</td>\n",
              "      <td>virginia</td>\n",
              "      <td>usa</td>\n",
              "      <td>22 hours left</td>\n",
              "      <td>126310.0</td>\n",
              "    </tr>\n",
              "    <tr>\n",
              "      <th>39</th>\n",
              "      <td>39</td>\n",
              "      <td>7000</td>\n",
              "      <td>ford</td>\n",
              "      <td>pk</td>\n",
              "      <td>2003</td>\n",
              "      <td>clean vehicle</td>\n",
              "      <td>176567.0</td>\n",
              "      <td>white</td>\n",
              "      <td>1ftnx20p73ed69682</td>\n",
              "      <td>167754187</td>\n",
              "      <td>tennessee</td>\n",
              "      <td>usa</td>\n",
              "      <td>22 hours left</td>\n",
              "      <td>183567.0</td>\n",
              "    </tr>\n",
              "    <tr>\n",
              "      <th>90</th>\n",
              "      <td>90</td>\n",
              "      <td>9110</td>\n",
              "      <td>ford</td>\n",
              "      <td>door</td>\n",
              "      <td>2017</td>\n",
              "      <td>clean vehicle</td>\n",
              "      <td>110316.0</td>\n",
              "      <td>white</td>\n",
              "      <td>1ftfw1ef5hkc50264</td>\n",
              "      <td>167656356</td>\n",
              "      <td>texas</td>\n",
              "      <td>usa</td>\n",
              "      <td>2 days left</td>\n",
              "      <td>119426.0</td>\n",
              "    </tr>\n",
              "    <tr>\n",
              "      <th>...</th>\n",
              "      <td>...</td>\n",
              "      <td>...</td>\n",
              "      <td>...</td>\n",
              "      <td>...</td>\n",
              "      <td>...</td>\n",
              "      <td>...</td>\n",
              "      <td>...</td>\n",
              "      <td>...</td>\n",
              "      <td>...</td>\n",
              "      <td>...</td>\n",
              "      <td>...</td>\n",
              "      <td>...</td>\n",
              "      <td>...</td>\n",
              "      <td>...</td>\n",
              "    </tr>\n",
              "    <tr>\n",
              "      <th>2136</th>\n",
              "      <td>2136</td>\n",
              "      <td>25000</td>\n",
              "      <td>ford</td>\n",
              "      <td>door</td>\n",
              "      <td>2017</td>\n",
              "      <td>clean vehicle</td>\n",
              "      <td>159182.0</td>\n",
              "      <td>red</td>\n",
              "      <td>1ft8w3dt0hef24562</td>\n",
              "      <td>167640427</td>\n",
              "      <td>texas</td>\n",
              "      <td>usa</td>\n",
              "      <td>10 days left</td>\n",
              "      <td>184182.0</td>\n",
              "    </tr>\n",
              "    <tr>\n",
              "      <th>2139</th>\n",
              "      <td>2139</td>\n",
              "      <td>34000</td>\n",
              "      <td>ford</td>\n",
              "      <td>door</td>\n",
              "      <td>2016</td>\n",
              "      <td>clean vehicle</td>\n",
              "      <td>131754.0</td>\n",
              "      <td>white</td>\n",
              "      <td>1ft8w3dt7gec81766</td>\n",
              "      <td>167641144</td>\n",
              "      <td>texas</td>\n",
              "      <td>usa</td>\n",
              "      <td>10 days left</td>\n",
              "      <td>165754.0</td>\n",
              "    </tr>\n",
              "    <tr>\n",
              "      <th>2143</th>\n",
              "      <td>2143</td>\n",
              "      <td>4000</td>\n",
              "      <td>ford</td>\n",
              "      <td>door</td>\n",
              "      <td>2015</td>\n",
              "      <td>clean vehicle</td>\n",
              "      <td>112810.0</td>\n",
              "      <td>gray</td>\n",
              "      <td>1fmcu0gx0fua05555</td>\n",
              "      <td>167641488</td>\n",
              "      <td>texas</td>\n",
              "      <td>usa</td>\n",
              "      <td>10 days left</td>\n",
              "      <td>116810.0</td>\n",
              "    </tr>\n",
              "    <tr>\n",
              "      <th>2145</th>\n",
              "      <td>2145</td>\n",
              "      <td>29000</td>\n",
              "      <td>ford</td>\n",
              "      <td>door</td>\n",
              "      <td>2015</td>\n",
              "      <td>clean vehicle</td>\n",
              "      <td>109137.0</td>\n",
              "      <td>white</td>\n",
              "      <td>1ft7w2btxfea09767</td>\n",
              "      <td>167641551</td>\n",
              "      <td>texas</td>\n",
              "      <td>usa</td>\n",
              "      <td>10 days left</td>\n",
              "      <td>138137.0</td>\n",
              "    </tr>\n",
              "    <tr>\n",
              "      <th>2148</th>\n",
              "      <td>2148</td>\n",
              "      <td>9000</td>\n",
              "      <td>ford</td>\n",
              "      <td>door</td>\n",
              "      <td>2014</td>\n",
              "      <td>clean vehicle</td>\n",
              "      <td>118340.0</td>\n",
              "      <td>gray</td>\n",
              "      <td>1ftew1cm7efa19352</td>\n",
              "      <td>167641733</td>\n",
              "      <td>texas</td>\n",
              "      <td>usa</td>\n",
              "      <td>10 days left</td>\n",
              "      <td>127340.0</td>\n",
              "    </tr>\n",
              "  </tbody>\n",
              "</table>\n",
              "<p>177 rows × 14 columns</p>\n",
              "</div>"
            ],
            "text/plain": [
              "      Unnamed: 0  price brand model  ...      state country      condition     total\n",
              "1              1   2899  ford    se  ...  tennessee     usa    6 days left  193451.0\n",
              "14            14  20700  ford  door  ...   virginia     usa  22 hours left  121457.0\n",
              "24            24  20800  ford  door  ...   virginia     usa  22 hours left  126310.0\n",
              "39            39   7000  ford    pk  ...  tennessee     usa  22 hours left  183567.0\n",
              "90            90   9110  ford  door  ...      texas     usa    2 days left  119426.0\n",
              "...          ...    ...   ...   ...  ...        ...     ...            ...       ...\n",
              "2136        2136  25000  ford  door  ...      texas     usa   10 days left  184182.0\n",
              "2139        2139  34000  ford  door  ...      texas     usa   10 days left  165754.0\n",
              "2143        2143   4000  ford  door  ...      texas     usa   10 days left  116810.0\n",
              "2145        2145  29000  ford  door  ...      texas     usa   10 days left  138137.0\n",
              "2148        2148   9000  ford  door  ...      texas     usa   10 days left  127340.0\n",
              "\n",
              "[177 rows x 14 columns]"
            ]
          },
          "metadata": {},
          "execution_count": 19
        }
      ]
    },
    {
      "cell_type": "markdown",
      "metadata": {
        "id": "KLo60zqgJkcW"
      },
      "source": [
        "# Avereage mileage of each brand"
      ]
    },
    {
      "cell_type": "code",
      "metadata": {
        "colab": {
          "base_uri": "https://localhost:8080/",
          "height": 421
        },
        "id": "09iKwzPl-pUA",
        "outputId": "b9644dda-a0cb-4bcd-d3e1-13ab7980ae13"
      },
      "source": [
        "df.groupby('brand').mean()['mileage'].sort_values(ascending=False).plot(x='brand',y='mileage',kind='bar',figsize=(15,5))\n"
      ],
      "execution_count": null,
      "outputs": [
        {
          "output_type": "execute_result",
          "data": {
            "text/plain": [
              "<matplotlib.axes._subplots.AxesSubplot at 0x7f799bfbee50>"
            ]
          },
          "metadata": {},
          "execution_count": 75
        },
        {
          "output_type": "display_data",
          "data": {
            "image/png": "[encoded data removed]",
            "text/plain": [
              "<Figure size 1080x360 with 1 Axes>"
            ]
          },
          "metadata": {
            "needs_background": "light"
          }
        }
      ]
    },
    {
      "cell_type": "markdown",
      "metadata": {
        "id": "xbECYVy7Irxg"
      },
      "source": [
        "# Top 5 Car brands in terms of number of cars"
      ]
    },
    {
      "cell_type": "code",
      "metadata": {
        "colab": {
          "base_uri": "https://localhost:8080/",
          "height": 424
        },
        "id": "aQ6VV7RtGj8X",
        "outputId": "d8d1e9ed-e318-49bd-96bc-9260bda867ec"
      },
      "source": [
        "data=[]\n",
        "for brand in df['brand'].unique():\n",
        "  data.append([brand,len(df[df['brand']==brand])])\n",
        "print(data)\n",
        "pd.DataFrame(data,columns=['brand','frequency']).sort_values(by='frequency',ascending=False).head().plot(x='brand',y='frequency',color='red',kind='bar',figsize=(10,5))\n"
      ],
      "execution_count": null,
      "outputs": [
        {
          "output_type": "stream",
          "name": "stdout",
          "text": [
            "[['toyota', 1], ['ford', 1235], ['dodge', 432], ['chevrolet', 297], ['gmc', 42], ['chrysler', 18], ['kia', 13], ['buick', 13], ['infiniti', 12], ['mercedes-benz', 10], ['jeep', 30], ['bmw', 17], ['cadillac', 10], ['hyundai', 15], ['mazda', 2], ['honda', 12], ['heartland', 5], ['jaguar', 1], ['acura', 3], ['harley-davidson', 1], ['audi', 4], ['lincoln', 2], ['lexus', 2], ['nissan', 312], ['land', 4], ['maserati', 1], ['peterbilt', 4], ['ram', 1]]\n"
          ]
        },
        {
          "output_type": "execute_result",
          "data": {
            "text/plain": [
              "<matplotlib.axes._subplots.AxesSubplot at 0x7f799be56210>"
            ]
          },
          "metadata": {},
          "execution_count": 103
        },
        {
          "output_type": "display_data",
          "data": {
            "image/png": "[encoded data removed]",
            "text/plain": [
              "<Figure size 720x360 with 1 Axes>"
            ]
          },
          "metadata": {
            "needs_background": "light"
          }
        }
      ]
    },
    {
      "cell_type": "markdown",
      "metadata": {
        "id": "Nqst8NwgcqM9"
      },
      "source": [
        "# Car brand based on Frequency of Cars"
      ]
    },
    {
      "cell_type": "code",
      "metadata": {
        "colab": {
          "base_uri": "https://localhost:8080/",
          "height": 421
        },
        "id": "guik0GTYb-fv",
        "outputId": "ddcb8dce-7c3b-4940-e63d-ce261e602a3f"
      },
      "source": [
        "data=[]\n",
        "for brand in df['brand'].unique():\n",
        "  data.append([brand,len(df[df['brand']==brand])])\n",
        "pd.DataFrame(data,columns=['brand','frequency']).sort_values(by='frequency',ascending=False).plot(x='brand',y='frequency',color='red',kind='bar',figsize=(10,5))\n"
      ],
      "execution_count": null,
      "outputs": [
        {
          "output_type": "execute_result",
          "data": {
            "text/plain": [
              "<matplotlib.axes._subplots.AxesSubplot at 0x7f799be0ebd0>"
            ]
          },
          "metadata": {},
          "execution_count": 82
        },
        {
          "output_type": "display_data",
          "data": {
            "image/png": "[encoded data removed]",
            "text/plain": [
              "<Figure size 720x360 with 1 Axes>"
            ]
          },
          "metadata": {
            "needs_background": "light"
          }
        }
      ]
    },
    {
      "cell_type": "markdown",
      "metadata": {
        "id": "VDXh0YVpc6UK"
      },
      "source": [
        "# Number of cars produced in each year"
      ]
    },
    {
      "cell_type": "code",
      "metadata": {
        "colab": {
          "base_uri": "https://localhost:8080/",
          "height": 351
        },
        "id": "zQCrGBu2c4Ud",
        "outputId": "2ca8887e-fa9b-45e4-c817-f2d218d6fc87"
      },
      "source": [
        "data=[]\n",
        "for year in df['year'].unique():\n",
        "  data.append([year,len(df[df['year']==year])])\n",
        "pd.DataFrame(data,columns=['year','frequency']).sort_values(by='year',ascending=True).plot(x='year',y='frequency',color='red',kind='line',figsize=(5,5))\n"
      ],
      "execution_count": null,
      "outputs": [
        {
          "output_type": "execute_result",
          "data": {
            "text/plain": [
              "<matplotlib.axes._subplots.AxesSubplot at 0x7f799c38a250>"
            ]
          },
          "metadata": {},
          "execution_count": 90
        },
        {
          "output_type": "display_data",
          "data": {
            "image/png": "[encoded data removed]",
            "text/plain": [
              "<Figure size 360x360 with 1 Axes>"
            ]
          },
          "metadata": {
            "needs_background": "light"
          }
        }
      ]
    },
    {
      "cell_type": "markdown",
      "metadata": {
        "id": "sS8CTMzsfTsa"
      },
      "source": [
        "# Number of cars Vs color of ford company cars"
      ]
    },
    {
      "cell_type": "code",
      "metadata": {
        "colab": {
          "base_uri": "https://localhost:8080/",
          "height": 549
        },
        "id": "QSak-DPodrNS",
        "outputId": "6b29b5fe-8def-4292-9403-9b89241dd32b"
      },
      "source": [
        "new=df[df['brand']=='ford']\n",
        "data=[]\n",
        "for color in new['color'].unique():\n",
        "  data.append([color,len(new[new['color']==color])])\n",
        "\n",
        "pd.DataFrame( data,columns = ['color','freq']).sort_values(by='freq',ascending=False).plot(x='color',y='freq',title='Number of cars with different colors of ford company',color='red',kind='bar',figsize=(10,5))\n"
      ],
      "execution_count": null,
      "outputs": [
        {
          "output_type": "execute_result",
          "data": {
            "text/plain": [
              "<matplotlib.axes._subplots.AxesSubplot at 0x7f9b89736950>"
            ]
          },
          "metadata": {},
          "execution_count": 20
        },
        {
          "output_type": "display_data",
          "data": {
            "image/png": "[encoded data removed]",
            "text/plain": [
              "<Figure size 720x360 with 1 Axes>"
            ]
          },
          "metadata": {
            "needs_background": "light"
          }
        }
      ]
    },
    {
      "cell_type": "markdown",
      "metadata": {
        "id": "Oh1f9hvqk47P"
      },
      "source": [
        "# States having most expensive cars"
      ]
    },
    {
      "cell_type": "code",
      "metadata": {
        "colab": {
          "base_uri": "https://localhost:8080/",
          "height": 417
        },
        "id": "oby1obJIjAD4",
        "outputId": "c3a929f5-a788-4e0a-a664-0622e1914f12"
      },
      "source": [
        "df.groupby('state').mean()['price'].sort_values(ascending=False).plot(kind='bar',figsize=(10,5))"
      ],
      "execution_count": null,
      "outputs": [
        {
          "output_type": "execute_result",
          "data": {
            "text/plain": [
              "<matplotlib.axes._subplots.AxesSubplot at 0x7f799adec410>"
            ]
          },
          "metadata": {},
          "execution_count": 108
        },
        {
          "output_type": "display_data",
          "data": {
            "image/png": "[encoded data removed]",
            "text/plain": [
              "<Figure size 720x360 with 1 Axes>"
            ]
          },
          "metadata": {
            "needs_background": "light"
          }
        }
      ]
    },
    {
      "cell_type": "markdown",
      "metadata": {
        "id": "iwJcpQhCtaF0"
      },
      "source": [
        "# Brand with maximum avg price"
      ]
    },
    {
      "cell_type": "code",
      "metadata": {
        "colab": {
          "base_uri": "https://localhost:8080/",
          "height": 367
        },
        "id": "TxysKDE2mhWP",
        "outputId": "04c66571-7c00-4a53-9228-941fa5339c7f"
      },
      "source": [
        "df.groupby('brand').mean()['price'].sort_values(ascending = False).plot.bar()"
      ],
      "execution_count": null,
      "outputs": [
        {
          "output_type": "execute_result",
          "data": {
            "text/plain": [
              "<matplotlib.axes._subplots.AxesSubplot at 0x7f799aca0090>"
            ]
          },
          "metadata": {},
          "execution_count": 109
        },
        {
          "output_type": "display_data",
          "data": {
            "image/png": "[encoded data removed]",
            "text/plain": [
              "<Figure size 432x288 with 1 Axes>"
            ]
          },
          "metadata": {
            "needs_background": "light"
          }
        }
      ]
    },
    {
      "cell_type": "code",
      "metadata": {
        "id": "5ldIrlQOtBQ1"
      },
      "source": [
        ""
      ],
      "execution_count": null,
      "outputs": []
    }
  ]
}